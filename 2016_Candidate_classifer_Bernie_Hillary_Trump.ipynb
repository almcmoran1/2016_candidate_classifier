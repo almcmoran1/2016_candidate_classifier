{
 "cells": [
  {
   "cell_type": "markdown",
   "metadata": {},
   "source": [
    "## Naive Bayes Classifier using 2016 Presidental Debate Corpus\n"
   ]
  },
  {
   "cell_type": "markdown",
   "metadata": {},
   "source": [
    "***Author: Aaron McMoran***\n",
    "\n",
    "5/8/2016"
   ]
  },
  {
   "cell_type": "markdown",
   "metadata": {},
   "source": [
    "<img src=\"images/bernie_and_hilary.jpg\" style=\"width: 500px;\"/>\n",
    "\n",
    "***Motivation:*** The 2016 presidential race is underway and many americans don't have the time and energy to research each candidate.  Thankfully, our favorite media outlets sponser debates so that the candidates can duke it out on live television for the american people to decide who they agree with the most. \n",
    "\n",
    "***Goal: *** Train a candidate classifier using their 2016 presidential debate rhetoric to predict which comment came from which candidate.\n",
    "\n",
    "***Dataset Source:*** The data was retrieved from The American Presidency project.  They have all presidential debate transcripts since the 1960 election.  The data is located here: http://www.presidency.ucsb.edu/debates.php"
   ]
  },
  {
   "cell_type": "markdown",
   "metadata": {},
   "source": [
    "---\n",
    "Retrieving the Data\n",
    "----"
   ]
  },
  {
   "cell_type": "code",
   "execution_count": null,
   "metadata": {
    "collapsed": true
   },
   "outputs": [],
   "source": [
    "reset -fs"
   ]
  },
  {
   "cell_type": "code",
   "execution_count": 1,
   "metadata": {
    "collapsed": false
   },
   "outputs": [],
   "source": [
    "import requests\n",
    "from bs4 import BeautifulSoup\n",
    "import sys\n",
    "import re\n",
    "from collections import defaultdict, Counter\n",
    "import nltk\n",
    "import sklearn\n",
    "from sklearn.naive_bayes import MultinomialNB \n",
    "from sklearn.pipeline import Pipeline\n",
    "from sklearn.ensemble import VotingClassifier\n",
    "from sklearn import feature_extraction\n",
    "from sklearn import cross_validation\n",
    "from sklearn import linear_model\n",
    "from sklearn import grid_search\n",
    "from sklearn.metrics import confusion_matrix\n",
    "import matplotlib.pyplot as plt\n",
    "import numpy as np\n",
    "import seaborn as sns\n",
    "%matplotlib inline\n",
    "sys.setrecursionlimit(2000)"
   ]
  },
  {
   "cell_type": "code",
   "execution_count": 2,
   "metadata": {
    "collapsed": false
   },
   "outputs": [],
   "source": [
    "class DebateData(object):\n",
    "    '''An election debate Data extration class'''\n",
    "\n",
    "    def __init__(self, year=2016):\n",
    "        ''' year:  year of election\n",
    "            election_range: how far back to grab urls for election year\n",
    "            text_source: data source containing links for debate transcripts\n",
    "            urls: all debate urls for this election year\n",
    "            year_link_lst: list of tuples that contain year and link (year, link) for all debates\n",
    "            speakers: list of speakers for this years election (includes any and all speakers)'''\n",
    "        self.year = year\n",
    "        self.election_range = 0\n",
    "        self.text_source = \"http://www.presidency.ucsb.edu/debates.php\"\n",
    "        self.urls_ = []\n",
    "        self.year_link_list = []\n",
    "        self.speakers = []\n",
    "        \n",
    "    def get_election_links(self):\n",
    "        \"\"\"Based off election the year, extract the debate text from the debates\n",
    "        that occured for that election\"\"\"\n",
    "        soup = self.get_soup(self.text_source)\n",
    "        #Build out zipped list of year and debate links\n",
    "        years, links, modifiedlist=[],[],[]\n",
    "        for idx, row in enumerate(soup.find_all('td')):\n",
    "            for i in row.find_all('td'):\n",
    "                for j in i.find_all('td'):\n",
    "                    for k in j.find_all('td'):\n",
    "                        for l in k.find_all('tr'):\n",
    "                            if l.find_all(class_=\"docdate\") and l.find_all(class_=\"doctext\") and l.find_all('a'):\n",
    "                                for link in l.find_all('a'):\n",
    "                                    links.append(link.get('href'))\n",
    "                                temp = str(l.find_all(class_='docdate'))\n",
    "                                yr = temp.split(\", \")[1][:4]\n",
    "                                years.append(int(yr))\n",
    "        self.year_link_list = sorted(zip(years,links), reverse = True)\n",
    "        #if we want to return all debates/candidates or if we want just the debates/candidates for an election year\n",
    "        if self.year == 'all':\n",
    "            return self.year_link_list\n",
    "        else:\n",
    "            self.election_range = self.year-4\n",
    "            for debyear, deblink in self.year_link_list:\n",
    "                if debyear > self.election_range and debyear <= self.year:\n",
    "                    self.urls_.append(deblink)\n",
    "                    modifiedlist.append((debyear,deblink))\n",
    "                self.year_link_list = modifiedlist\n",
    "    \n",
    "    def get_soup(self, link): \n",
    "        \"Build the soup\"\n",
    "        return BeautifulSoup(requests.get(link).content, 'html.parser')\n",
    "                    \n",
    "    def get_speakers(self):\n",
    "        \"\"\"Identify the speakers (candidates, moderators, panelists) by using bold html tags. \n",
    "        Remove bold tags that are not speakers\"\"\"\n",
    "        self.speakers=[]\n",
    "        for debate in self.urls_:\n",
    "            debspeakers=[]\n",
    "            soup = self.get_soup(debate)\n",
    "            texttest = soup.find(class_='displaytext')\n",
    "            speakers = texttest.find_all('b')\n",
    "            for speaker in speakers:\n",
    "                spkrtrm = speaker.get_text()\n",
    "                #get rid of bold tokens that are not speakers\n",
    "                if spkrtrm not in (\"PARTICIPANTS:\",\"MODERATOR:\",\"PANELIST:\"\n",
    "                                   ,\"MODERATORS:\",\"PANELISTS:\",\" \",'.','...','???:','] ' ):\n",
    "                    debspeakers.append(spkrtrm)\n",
    "            self.speakers.extend(debspeakers)\n",
    "        self.speakers = set(self.speakers)\n",
    "    \n",
    "    def get_text(self):\n",
    "        \"get the text for each candidate (TRUMP,CRUZ,KASICH,CLINTON,SANDERS)\"\n",
    "        all_text = []\n",
    "        for link in self.urls_:\n",
    "            soup = self.get_soup(link)\n",
    "            text = soup.find(class_='displaytext').get_text()\n",
    "            all_text.append(text)\n",
    "        all_text = \",\".join(all_text)\n",
    "        all_text.replace(\"\\'\",\"'\")\n",
    "        #SOURCE - http://www.dotnetperls.com/find-python\n",
    "        lst = []\n",
    "        for speaker in self.speakers:\n",
    "        # Start with this value.\n",
    "            location = -1\n",
    "            while True:\n",
    "            # Advance location by 1.\n",
    "                location = all_text.find(speaker, location +1)\n",
    "                if location != -1:\n",
    "                    lst.append((location,speaker))\n",
    "                if location == -1: break\n",
    "        locspkr = sorted(lst)\n",
    "        textdict = defaultdict(list)\n",
    "        cand = [\"TRUMP:\",\"CLINTON:\",\"SANDERS:\"]\n",
    "        for idx,(i,j) in enumerate(locspkr):\n",
    "            if j in cand:\n",
    "                start = i + len(j)\n",
    "                if idx+1 == len(locspkr):\n",
    "                    textdict[j].append(all_text[start:locspkr[idx][0]])\n",
    "                else:\n",
    "                    textdict[j].append(all_text[start:locspkr[idx+1][0]])\n",
    "        return textdict"
   ]
  },
  {
   "cell_type": "markdown",
   "metadata": {},
   "source": [
    "## Create Debate Instance\n"
   ]
  },
  {
   "cell_type": "code",
   "execution_count": 3,
   "metadata": {
    "collapsed": false
   },
   "outputs": [],
   "source": [
    "#Create debate data instance for 2016 election year\n",
    "dd = DebateData(2016)\n",
    "#Get the links that have the transcripts\n",
    "dd.get_election_links()\n",
    "#get all of the speakers from the debates\n",
    "dd.get_speakers()\n",
    "#Returns a dictionary with candidates as keys and a list of strings as their comments\n",
    "dtext = dd.get_text()"
   ]
  },
  {
   "cell_type": "markdown",
   "metadata": {},
   "source": [
    "## Quick look at the data"
   ]
  },
  {
   "cell_type": "code",
   "execution_count": 4,
   "metadata": {
    "collapsed": false
   },
   "outputs": [
    {
     "data": {
      "text/plain": [
       "[('Sanders', 625), ('Clinton', 564), ('Trump', 760)]"
      ]
     },
     "execution_count": 4,
     "metadata": {},
     "output_type": "execute_result"
    }
   ],
   "source": [
    "#Comments per Candidate\n",
    "comments = [(key.title()[:-1],len(dtext[key])) for key in dtext.keys()]\n",
    "comments"
   ]
  },
  {
   "cell_type": "code",
   "execution_count": 5,
   "metadata": {
    "collapsed": false
   },
   "outputs": [
    {
     "data": {
      "text/plain": [
       "[\" One of the biggest political events anywhere in the world is happening right now with the Republican Party. Millions and millions of people are going out to the polls and they're voting. They're voting out of enthusiasm. They're voting out of love. Some of these people, frankly, have never voted before — 50 years old, 60 years old, 70 years old — never voted before.We're taking people from the Democrat Party. We're taking people as independents, and they're all coming out and the whole world is talking about it. It's very exciting. I think, frankly, the Republican establishment, or whatever you want to call it, should embrace what's happening.We're having millions of extra people join. We are going to beat the Democrats. We are going to beat Hillary or whoever it may be. And we're going to beat them soundly. [applause]\",\n",
       " \" Because nobody knows the system better than me. I know the H1B. I know the H2B. Nobody knows it better than me. I'm a businessman. These are laws. These are regulations. These are rules. We're allowed to do it. And frankly, because of the devaluations that other countries — the monetary devaluations that other countries are constantly doing and brilliantly doing against us, it's very, very hard for our companies in this country, in our country, to compete.So I will take advantage of it; they're the laws. But I'm the one that knows how to change it. Nobody else on this dais knows how to change it like I do, believe me.\"]"
      ]
     },
     "execution_count": 5,
     "metadata": {},
     "output_type": "execute_result"
    }
   ],
   "source": [
    "#looking at the data in raw form\n",
    "dtext[\"TRUMP:\"][:2]"
   ]
  },
  {
   "cell_type": "markdown",
   "metadata": {},
   "source": [
    "## EDA and Build Input for Classifiers"
   ]
  },
  {
   "cell_type": "code",
   "execution_count": 6,
   "metadata": {
    "collapsed": false
   },
   "outputs": [],
   "source": [
    "#Remove Punctuation and build X and y for classifiers\n",
    "y,X=[],[]\n",
    "from string import punctuation\n",
    "for key in dtext.keys():\n",
    "    for idx, comment in enumerate(dtext[key]):\n",
    "        dtext[key][idx] = dtext[key][idx].replace('\\'', '').replace('!', '').replace('.', ' ').replace(',', '').replace(':', '').replace('?', '').replace('\\\"', '').replace(')','').replace('(','').replace(';','')\n",
    "        y.append(key)\n",
    "        X.append(dtext[key][idx])"
   ]
  },
  {
   "cell_type": "code",
   "execution_count": 7,
   "metadata": {
    "collapsed": false
   },
   "outputs": [
    {
     "data": {
      "text/plain": [
       "'One of the biggest political events anywhere in the world is happening right now with the Republican Party  Millions and millions of people are going out to the polls and theyre voting  Theyre voting out of enthusiasm  Theyre voting out of love  Some of these people frankly have never voted before — 50 years old 60 years old 70 years old — never voted before Were taking people from the Democrat Party  Were taking people as independents and theyre all coming out and the whole world is talking about it  Its very exciting  I think frankly the Republican establishment or whatever you want to call it should embrace whats happening Were having millions of extra people join  We are going to beat the Democrats  We are going to beat Hillary or whoever it may be  And were going to beat them soundly  [applause]'"
      ]
     },
     "execution_count": 7,
     "metadata": {},
     "output_type": "execute_result"
    }
   ],
   "source": [
    "dtext[\"TRUMP:\"][0].strip()"
   ]
  },
  {
   "cell_type": "code",
   "execution_count": 8,
   "metadata": {
    "collapsed": true
   },
   "outputs": [],
   "source": [
    "#Additional stopwords were added to the nltk corpus\n",
    "from nltk.corpus import stopwords"
   ]
  },
  {
   "cell_type": "code",
   "execution_count": 9,
   "metadata": {
    "collapsed": false
   },
   "outputs": [],
   "source": [
    "#Create Bag of Word dictionary for candidates and remove stop words for EDA\n",
    "edadict = {}\n",
    "for key in dtext.keys():\n",
    "    edadict[key] = nltk.word_tokenize(\",\".join(dtext[key]).lower())\n",
    "    edadict[key] = [word for word in edadict[key] if word not in stopwords.words('english')]"
   ]
  },
  {
   "cell_type": "markdown",
   "metadata": {},
   "source": [
    "## Candidates Favorite Words"
   ]
  },
  {
   "cell_type": "code",
   "execution_count": 13,
   "metadata": {
    "collapsed": false
   },
   "outputs": [
    {
     "data": {
      "image/png": "[encoded data removed]",
      "text/plain": [
       "<matplotlib.figure.Figure at 0x118cc3828>"
      ]
     },
     "metadata": {},
     "output_type": "display_data"
    },
    {
     "data": {
      "image/png": "[encoded data removed]",
      "text/plain": [
       "<matplotlib.figure.Figure at 0x118fb25f8>"
      ]
     },
     "metadata": {},
     "output_type": "display_data"
    },
    {
     "data": {
      "image/png": "[encoded data removed]",
      "text/plain": [
       "<matplotlib.figure.Figure at 0x119e2b4e0>"
      ]
     },
     "metadata": {},
     "output_type": "display_data"
    },
    {
     "data": {
      "image/png": "[encoded data removed]",
      "text/plain": [
       "<matplotlib.figure.Figure at 0x118acb550>"
      ]
     },
     "metadata": {},
     "output_type": "display_data"
    },
    {
     "data": {
      "image/png": "[encoded data removed]",
      "text/plain": [
       "<matplotlib.figure.Figure at 0x10343d588>"
      ]
     },
     "metadata": {},
     "output_type": "display_data"
    }
   ],
   "source": [
    "for key in edadict.keys():\n",
    "    wordcount = Counter(edadict[key]).most_common(10)\n",
    "    words = [word for word, count in wordcount]\n",
    "    counts = [count for word, count in wordcount]\n",
    "    plt.figure(figsize = (15,3))\n",
    "    plt.bar(range(len(wordcount)),counts)\n",
    "    plt.yticks(fontsize=10)\n",
    "    plt.tick_params(labelsize=10)\n",
    "    plt.xticks(range(len(wordcount)),words, rotation=45)\n",
    "    plt.title(key[:-1], fontsize=20)"
   ]
  },
  {
   "cell_type": "markdown",
   "metadata": {},
   "source": [
    "***Since the candidates most popular words are all very similar, it may not end up being a good classification feature ***"
   ]
  },
  {
   "cell_type": "markdown",
   "metadata": {},
   "source": [
    "## Candidate Vocabulary"
   ]
  },
  {
   "cell_type": "code",
   "execution_count": 14,
   "metadata": {
    "collapsed": false
   },
   "outputs": [
    {
     "data": {
      "image/png": "[encoded data removed]",
      "text/plain": [
       "<matplotlib.figure.Figure at 0x11a21c048>"
      ]
     },
     "metadata": {},
     "output_type": "display_data"
    }
   ],
   "source": [
    "#Keeping Stop words but removing puncutation misses\n",
    "stop = [\"-\",\"—\",\"]\",\"[\",\",\",\"','\"]\n",
    "cands, card, words = [],[],[]\n",
    "edadict = {}\n",
    "for key in dtext.keys():\n",
    "    edadict[key] = nltk.word_tokenize(\",\".join(dtext[key]).lower())\n",
    "    edadict[key] = [word for word in edadict[key] if word not in stop]\n",
    "cardinality = [(key,len(set(edadict[key])),len(edadict[key])) for key in edadict.keys()]\n",
    "\n",
    "#plotting Cardinality\n",
    "for i,j,k in cardinality:\n",
    "    cands.append(i)\n",
    "    card.append(j)\n",
    "    words.append(k)\n",
    "fig, ax = plt.subplots(figsize=(10,5))\n",
    "ax.scatter(card, words, s=80)\n",
    "for i, txt in enumerate(cands):\n",
    "    ax.annotate(txt[:-1],(card[i]-150,words[i]+2200),verticalalignment='top',fontsize=15,)\n",
    "plt.xlabel(\"Cardinality\",fontsize=17)\n",
    "plt.ylabel(\"Words Spoken\", fontsize = 17)\n",
    "plt.title(\"Candidate Vocabulary\", fontsize=20)\n",
    "plt.show()  "
   ]
  },
  {
   "cell_type": "markdown",
   "metadata": {},
   "source": [
    "***We can see here that Kasich has the smallest vocabulary of the candidates; however, he also spoke the fewest words of the candidates so that would be expected.  What is interesting is that while Trump spoke over 10,000 more words than Kasich his vocabulary barely increased.  On the other hand, Cruz only spoke a few thousand words more than Kasich, but his vocabulary is substantially more broad than Trump's and Kasich's.*** "
   ]
  },
  {
   "cell_type": "markdown",
   "metadata": {},
   "source": [
    "## Who received the most applause?"
   ]
  },
  {
   "cell_type": "code",
   "execution_count": 20,
   "metadata": {
    "collapsed": false
   },
   "outputs": [
    {
     "data": {
      "image/png": "[encoded data removed]",
      "text/plain": [
       "<matplotlib.figure.Figure at 0x119283908>"
      ]
     },
     "metadata": {},
     "output_type": "display_data"
    }
   ],
   "source": [
    "applause=[]\n",
    "for key in edadict.keys():\n",
    "    count = Counter(edadict[key])\n",
    "    applause.append((key,count[\"applause\"]))\n",
    "cands = [cand[:-1] for cand, count in applause]\n",
    "counts = [count for cand, count in applause]\n",
    "plt.figure(figsize = (8,5))\n",
    "plt.bar(range(len(applause)),counts)\n",
    "plt.yticks(fontsize=10)\n",
    "plt.ylabel(\"Applause Frequency\")\n",
    "plt.tick_params(labelsize=10)\n",
    "plt.xticks(range(len(applause)),cands, rotation=45, fontsize = 10)\n",
    "plt.title(\"Applause\", fontsize=20)\n",
    "plt.show()"
   ]
  },
  {
   "cell_type": "markdown",
   "metadata": {},
   "source": [
    "***Could applause be used as a predictor for the republican and democratic nominee?***"
   ]
  },
  {
   "cell_type": "markdown",
   "metadata": {},
   "source": [
    "---\n",
    "Naive Bayes is often a good starting point for text analysis\n",
    "----"
   ]
  },
  {
   "cell_type": "markdown",
   "metadata": {},
   "source": [
    "\n",
    "\n",
    "### Naive Bayes is Applicable Where:\n",
    "\n",
    "1. n << p (# of features) (you have fewer samples than features)\n",
    "2. n somewhat small __or__ \n",
    "3. n quite large\n",
    "4. streams of input data (online learning)\n",
    "5. not bounded by memory (data usually stored as in-place tables)\n",
    "6. Multi-class\n",
    "\n",
    "### Why Text?\n",
    "\n",
    "Text data happens to fit very nicely to the bullet points of __Where/When__ to use Naive Bayes.  Due to bag of words featurization of text, the input feature matrix is often very wide (~10,000 - 50,000 columns/dimensions) and can even be greater than the number of data samples (n << p).\n",
    "\n",
    "Source - Jared Thompson lecture, 4.2, 04/17/2106"
   ]
  },
  {
   "cell_type": "code",
   "execution_count": 10,
   "metadata": {
    "collapsed": false
   },
   "outputs": [
    {
     "name": "stdout",
     "output_type": "stream",
     "text": [
      "Accuracy: 81.03 %\n"
     ]
    }
   ],
   "source": [
    "#First go with a Multinomial Naive Bayes Classifier\n",
    "vectount = sklearn.feature_extraction.text.CountVectorizer()\n",
    "vectfit = vectount.fit_transform(X)\n",
    "X_train, X_test, y_train, y_test = sklearn.cross_validation.train_test_split(\n",
    "    vectfit, y, test_size=0.1, random_state =1)\n",
    "NBtest = MultinomialNB()\n",
    "NBtest.fit(X_train,y_train)\n",
    "predictions = NBtest.predict(X_test)\n",
    "score = NBtest.score(X_test,y_test)*100\n",
    "print(\"Accuracy: %0.2f\"% score,\"%\")"
   ]
  },
  {
   "cell_type": "markdown",
   "metadata": {},
   "source": [
    "***That's a pretty good accuracy for our first shot, but let's check with some other classifiers to make sure our intuition serves us right***"
   ]
  },
  {
   "cell_type": "markdown",
   "metadata": {},
   "source": [
    "---\n",
    "Comparing Random Forest, Multinomial Bayes, Logistic Regression, kNN, and Ensemble\n",
    "----"
   ]
  },
  {
   "cell_type": "code",
   "execution_count": 430,
   "metadata": {
    "collapsed": false
   },
   "outputs": [
    {
     "name": "stdout",
     "output_type": "stream",
     "text": [
      "Accuracy: 0.49 (+/- 0.02) [Random Forest]\n",
      "Accuracy: 0.71 (+/- 0.01) [Multinomial Bayes]\n",
      "Accuracy: 0.62 (+/- 0.02) [Logistic Regression]\n",
      "Accuracy: 0.40 (+/- 0.03) [kNN]\n",
      "Accuracy: 0.62 (+/- 0.02) [Ensemble]\n"
     ]
    }
   ],
   "source": [
    "clf1 = RandomForestClassifier(random_state=1, n_jobs=-1)\n",
    "clf2 = MultinomialNB()\n",
    "clf3 = sklearn.linear_model.LogisticRegression(solver='lbfgs',multi_class='multinomial',random_state=1)\n",
    "clf4 = KNeighborsClassifier(n_neighbors=5)\n",
    "eclf = VotingClassifier(estimators=[('rf', clf1), ('mnb', clf2),('lg', clf3),('knn',clf4)], voting='hard')\n",
    "\n",
    "for clf, label in zip([clf1, clf2,clf3, clf4, eclf], ['Random Forest', 'Multinomial Bayes','Logistic Regression',\n",
    "                                                      'kNN', 'Ensemble']):\n",
    "    scores = cross_validation.cross_val_score(clf, vecfit, y, cv=5, scoring='accuracy', n_jobs=-1)\n",
    "    print(\"Accuracy: %0.2f (+/- %0.2f) [%s]\" % (scores.mean(),\"%\", scores.std(), label))"
   ]
  },
  {
   "cell_type": "markdown",
   "metadata": {},
   "source": [
    "***Looking at the default models for Random Forest, Multinomial Bayes, Logistic Regression and kNN it appears that Multinomial Bayes outperforms the other classifiers when using sci-kit learns default parameters for the estimators.  I decided to go ahead with using Multinomial Bayes as my estimator. Now, I am going to try to optimize the hyper parameters for this classifier.***"
   ]
  },
  {
   "cell_type": "markdown",
   "metadata": {},
   "source": [
    "---\n",
    "Grid Search Multinomial Bayes\n",
    "----"
   ]
  },
  {
   "cell_type": "code",
   "execution_count": 50,
   "metadata": {
    "collapsed": false
   },
   "outputs": [
    {
     "name": "stdout",
     "output_type": "stream",
     "text": [
      "Time taken for GridSearch:  77.53289604187012 seconds.\n"
     ]
    }
   ],
   "source": [
    "import time\n",
    "start = time.time()\n",
    "\n",
    "#Import Custom stop words\n",
    "stop = stopwords.words('english')\n",
    "\n",
    "#build vectorizor and split the data\n",
    "vecount = sklearn.feature_extraction.text.CountVectorizer()\n",
    "X_train, X_test, y_train, y_test = sklearn.cross_validation.train_test_split(\n",
    "    X, y, test_size=0.1, random_state = 1)\n",
    "\n",
    "paramsvec = [{'vect__ngram_range':[(1,3)],'vect__stop_words':[stop,None],\n",
    "              'mnb__alpha':[.4,.5,.6,.7,.8,.9,1.0,1.5],'mnb__fit_prior':[True,False]}]\n",
    "\n",
    "#Using Countvectorizer\n",
    "NB_vect = Pipeline([('vect',vecount),('mnb',MultinomialNB())])\n",
    "gs_NB_vect = grid_search.GridSearchCV(NB_vect,paramsvec,scoring='accuracy', cv=5, n_jobs=-1)\n",
    "gs_NB_vect.fit(X_train,y_train)\n",
    "\n",
    "#How long did it take?\n",
    "end = time.time()\n",
    "elapsed = end - start\n",
    "print(\"Time taken for GridSearch: \", elapsed, \"seconds.\")"
   ]
  },
  {
   "cell_type": "code",
   "execution_count": 52,
   "metadata": {
    "collapsed": false
   },
   "outputs": [
    {
     "name": "stdout",
     "output_type": "stream",
     "text": [
      "Best Score: 0.77  \n",
      "Best Parameters:  {'mnb__alpha': 0.4, 'vect__ngram_range': (1, 3), 'vect__stop_words': None, 'mnb__fit_prior': True}\n"
     ]
    }
   ],
   "source": [
    "print(\"Best Score: %0.2f  \" % gs_NB_vect.best_score_)\n",
    "print(\"Best Parameters: \", gs_NB_vect.best_params_)"
   ]
  },
  {
   "cell_type": "markdown",
   "metadata": {},
   "source": [
    "*** The results indicate that the smoothing parameter (alpha) for words that do not show up in the corpus should be less than half of what the normal smoothing coefficient is set to (1.0).  In addition, it appears that stop words are very important when classifying the candidates.  Also, the maximum number of ngrams (bigrams and trigrams) were used for optimizing classification, indicating context is important for classification***"
   ]
  },
  {
   "cell_type": "markdown",
   "metadata": {},
   "source": [
    "---\n",
    "Building Optimal Classifier\n",
    "----"
   ]
  },
  {
   "cell_type": "code",
   "execution_count": 11,
   "metadata": {
    "collapsed": false
   },
   "outputs": [
    {
     "name": "stdout",
     "output_type": "stream",
     "text": [
      "Accuracy: 83.59 %\n"
     ]
    }
   ],
   "source": [
    "#Classifying\n",
    "vecount = sklearn.feature_extraction.text.CountVectorizer(ngram_range=(1,3))\n",
    "vecfit = vecount.fit_transform(X)\n",
    "X_train, X_test, y_train, y_test = sklearn.cross_validation.train_test_split(\n",
    "    vecfit, y, test_size=0.1, random_state =1)\n",
    "NB1 = MultinomialNB(alpha=0.4, fit_prior=True)\n",
    "NB1.fit(X_train,y_train)\n",
    "predictions = NB1.predict(X_test)\n",
    "score = NB1.score(X_test,y_test)*100\n",
    "print(\"Accuracy: %0.2f\"% score,\"%\")"
   ]
  },
  {
   "cell_type": "code",
   "execution_count": 12,
   "metadata": {
    "collapsed": false
   },
   "outputs": [
    {
     "name": "stdout",
     "output_type": "stream",
     "text": [
      "Accuracy: 0.80 (+/- 0.03)\n"
     ]
    }
   ],
   "source": [
    "scores = cross_validation.cross_val_score(NB1,vecfit, y, cv=5, scoring=\"accuracy\",n_jobs = -1)\n",
    "print(\"Accuracy: %0.2f (+/- %0.2f)\" % (scores.mean(), scores.std()))"
   ]
  },
  {
   "cell_type": "markdown",
   "metadata": {},
   "source": [
    "---\n",
    "Comparing TFIDF Feature Matrix\n",
    "----"
   ]
  },
  {
   "cell_type": "code",
   "execution_count": 468,
   "metadata": {
    "collapsed": false
   },
   "outputs": [
    {
     "data": {
      "text/plain": [
       "0.67843137254901964"
      ]
     },
     "execution_count": 468,
     "metadata": {},
     "output_type": "execute_result"
    }
   ],
   "source": [
    "vecounttfidf = sklearn.feature_extraction.text.TfidfVectorizer(ngram_range=(1,3))\n",
    "vecfittfidf = vecounttfidf.fit_transform(X)\n",
    "X_train, X_test, y_train, y_test = sklearn.cross_validation.train_test_split(\n",
    "    vecfittfidf, y, test_size=0.1, random_state = 1)\n",
    "NBtfidf = MultinomialNB(fit_prior=True, alpha = 0.4)\n",
    "NBtfidf.fit(X_train,y_train)\n",
    "NBtfidf.score(X_test,y_test)"
   ]
  },
  {
   "cell_type": "code",
   "execution_count": 470,
   "metadata": {
    "collapsed": false
   },
   "outputs": [
    {
     "name": "stdout",
     "output_type": "stream",
     "text": [
      "Accuracy: 0.64 (+/- 0.03)\n"
     ]
    }
   ],
   "source": [
    "scores = cross_validation.cross_val_score(NBtfidf,vecfittfidf, y, cv=5, scoring=\"accuracy\",n_jobs = -1)\n",
    "print(\"Accuracy: %0.2f (+/- %0.2f)\" % (scores.mean(), scores.std()))"
   ]
  },
  {
   "cell_type": "markdown",
   "metadata": {},
   "source": [
    "*** Realizing I did not optimize the hyperparameters for the TFIDF Vectorizer, I did want to see what the optimized parameters for Multinomial Bayes classifier looked like with a TFIDF feature matrix. Using the optimized Multinomial Bayes parameters with the tfidf vectorizer I recieved a lower accuracy score***"
   ]
  },
  {
   "cell_type": "markdown",
   "metadata": {},
   "source": [
    "---\n",
    "Test Multinomial Bayes Classifier with some examples from the Web\n",
    "----"
   ]
  },
  {
   "cell_type": "markdown",
   "metadata": {},
   "source": [
    "<img src=\"images/candidates.jpg\" style=\"width: 500px;\"/>\n",
    "\n",
    "\n",
    "***Trump:*** *\"I will build a great wall and nobody builds walls better than me believe me and I'll build them very inexpensively. I will build a great great wall on our southern border and I will make mexico pay for that wall mark my words.\"*   [Source](https://www.facebook.com/VoteForDonaldTrump/posts/835365566532258)\n",
    "\n",
    "***Clinton:*** *\"People can judge me for what I've done. And I think when somebody's out in the public eye, that's what they do. So I'm fully comfortable with who I am, what I stand for, and what I've always stood for.\"*[Source](http://www.brainyquote.com/quotes/quotes/h/hillarycli676698.html)\n",
    "\n",
    "***Sanders:*** *\"A nation will not survive morally or economically when so few have so much and so many have so little.\"*   [Source](http://www.azquotes.com/quote/1206371)\n",
    "\n",
    "***Cruz:*** *\"We need to remain a nation that doesn't just welcome but that celebrates legal immigrants who come here seeking to pursue the American Dream.\"*[Source](http://www.brainyquote.com/quotes/quotes/t/tedcruz519507.html)\n",
    "\n",
    "\n",
    "***Kasich:*** *\"We just got an army of people, who, and many women, who left their kitchens to go out and to go door-to-door and to put up yard signs for me.\"*   [Source](https://twitter.com/kailanikm/status/701820038869819393?ref_src=twsrc%5Etfw)\n",
    "\n",
    "***Trump:*** *\"Happy Cinco de Mayo! The best taco bowls are made in Trump Tower Grill. I love Hispanics!\"*    [Source](https://twitter.com/realdonaldtrump/status/728297587418247168)"
   ]
  },
  {
   "cell_type": "code",
   "execution_count": 19,
   "metadata": {
    "collapsed": true
   },
   "outputs": [],
   "source": [
    "classify = ['i will build a great wall and nobody builds walls better than me believe me and ill build them very inexpensively i will build a great great wall on our southern border and I will make mexico pay for that wall mark my words',\"People can judge me for what I've done. And I think when somebody's out in the public eye, that's what they do. So I'm fully comfortable with who I am, what I stand for, and what I've always stood for.\",\"A nation will not survive morally or economically when so few have so much and so many have so little.\", \"Happy Cinco de Mayo! The best taco bowls are made in Trump Tower Grill. I love Hispanics!'\",\"I am donald trump\"]"
   ]
  },
  {
   "cell_type": "code",
   "execution_count": 20,
   "metadata": {
    "collapsed": false
   },
   "outputs": [],
   "source": [
    "comments = vecount.transform(classify)"
   ]
  },
  {
   "cell_type": "code",
   "execution_count": 21,
   "metadata": {
    "collapsed": false
   },
   "outputs": [
    {
     "data": {
      "text/plain": [
       "array(['TRUMP:', 'CLINTON:', 'SANDERS:', 'TRUMP:', 'SANDERS:'], \n",
       "      dtype='<U8')"
      ]
     },
     "execution_count": 21,
     "metadata": {},
     "output_type": "execute_result"
    }
   ],
   "source": [
    "NB1.predict(comments)"
   ]
  },
  {
   "cell_type": "markdown",
   "metadata": {},
   "source": [
    "*** Five out of six! Not bad!***"
   ]
  },
  {
   "cell_type": "code",
   "execution_count": 489,
   "metadata": {
    "collapsed": false
   },
   "outputs": [
    {
     "data": {
      "image/png": "[encoded data removed]",
      "text/plain": [
       "<matplotlib.figure.Figure at 0x12485ecf8>"
      ]
     },
     "metadata": {},
     "output_type": "display_data"
    }
   ],
   "source": [
    "#source - http://scikit-learn.org/stable/auto_examples/model_selection/plot_confusion_matrix.html\n",
    "def plot_confusion_matrix(cm, title='Confusion matrix', cmap=plt.cm.Blues):\n",
    "    plt.imshow(cm, interpolation='nearest', cmap=cmap)\n",
    "    plt.title(title,fontsize=20)\n",
    "    plt.colorbar()\n",
    "    tick_marks = np.arange(len(set(y_test)))\n",
    "    plt.xticks(tick_marks, set(y_test), rotation=45)\n",
    "    plt.yticks(tick_marks, set(y_test))\n",
    "    plt.tight_layout()\n",
    "    plt.ylabel('True label', fontsize=10)\n",
    "    plt.xlabel('Predicted label',fontsize=10)\n",
    "\n",
    "# Compute confusion matrix and plot\n",
    "cm = confusion_matrix(y_test, predictions)\n",
    "plt.figure(figsize=(8,7))\n",
    "plot_confusion_matrix(cm)"
   ]
  },
  {
   "cell_type": "markdown",
   "metadata": {
    "collapsed": true
   },
   "source": [
    "***Interesting that the model often confuses Clinton and Cruz, even though they belong to different presidential parties.  I suspect Kasich is tough to identify due to the fact that there is not as much data for him.  Also, there seems to be a trend with true positives and cardinality/number of words spoken.  Candidates that had a wider vocabulary were easier to classify than those with a smaller vocabulary.  ***"
   ]
  },
  {
   "cell_type": "markdown",
   "metadata": {},
   "source": [
    "## Storing Model"
   ]
  },
  {
   "cell_type": "code",
   "execution_count": 502,
   "metadata": {
    "collapsed": true
   },
   "outputs": [],
   "source": [
    "import pickle\n",
    "import os\n",
    "dest = os.path.join('2016_candidate_classifier','pkl_objects')\n",
    "if not os.path.exists(dest):\n",
    "    os.makedirs(dest)\n",
    "#pickling classifier\n",
    "pickle.dump(NB1, open(os.path.join(dest,'classifier.pkl'),'wb'),protocol=4)\n",
    "#pickling Vectorizer\n",
    "pickle.dump(vecount, open(os.path.join(dest,'Countvec.pkl'),'wb'),protocol=4)"
   ]
  },
  {
   "cell_type": "markdown",
   "metadata": {},
   "source": [
    "## Try for yourself!"
   ]
  },
  {
   "cell_type": "markdown",
   "metadata": {},
   "source": [
    "***Following Sebastian Raschka's instructions in chapter 9 of \"Python Machine Learning\" I used Flask to build a very simple webpage for using the classifier on the web.***\n",
    "\n",
    "http://almcmoran12.pythonanywhere.com/"
   ]
  },
  {
   "cell_type": "markdown",
   "metadata": {},
   "source": [
    "## Next Steps\n",
    "\n",
    "* Generalize DebateData class for prior presidential election debates\n",
    "* Train and analyze a NeuralNet classifier\n",
    "* Implement Word2Vec on the corpus\n",
    "* Add a feedback loop on the webpage so that the classifier can get retrained on new data\n",
    "* Topic modeling per candidate or per debate"
   ]
  }
 ],
 "metadata": {
  "kernelspec": {
   "display_name": "Python 3",
   "language": "python",
   "name": "python3"
  },
  "language_info": {
   "codemirror_mode": {
    "name": "ipython",
    "version": 3
   },
   "file_extension": ".py",
   "mimetype": "text/x-python",
   "name": "python",
   "nbconvert_exporter": "python",
   "pygments_lexer": "ipython3",
   "version": "3.5.1"
  }
 },
 "nbformat": 4,
 "nbformat_minor": 0
}
